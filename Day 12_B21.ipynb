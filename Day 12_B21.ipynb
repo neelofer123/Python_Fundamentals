{
 "cells": [
  {
   "cell_type": "code",
   "execution_count": 1,
   "metadata": {},
   "outputs": [],
   "source": [
    "#Looping with dictionary:\n",
    "\n",
    "user_account = {'username':'codetraining' , 'fname': 'code' , 'lname': 'training' , 'password': '1234'}"
   ]
  },
  {
   "cell_type": "code",
   "execution_count": 3,
   "metadata": {},
   "outputs": [
    {
     "name": "stdout",
     "output_type": "stream",
     "text": [
      "key:username\n",
      "\n",
      "value:codetraining\n",
      "\n",
      "key:fname\n",
      "\n",
      "value:code\n",
      "\n",
      "key:lname\n",
      "\n",
      "value:training\n",
      "\n",
      "key:password\n",
      "\n",
      "value:1234\n",
      "\n"
     ]
    }
   ],
   "source": [
    "# Code to see the keys and values:\n",
    "\n",
    "for x,y in user_account.items():\n",
    "    print(f\"key:{x}\\n\")\n",
    "    print(f\"value:{y}\\n\")"
   ]
  },
  {
   "cell_type": "code",
   "execution_count": 4,
   "metadata": {},
   "outputs": [
    {
     "name": "stdout",
     "output_type": "stream",
     "text": [
      "key:username\n",
      "\n",
      "key:fname\n",
      "\n",
      "key:lname\n",
      "\n",
      "key:password\n",
      "\n"
     ]
    }
   ],
   "source": [
    "# Code to see only the keys:\n",
    "\n",
    "for x in user_account.keys():\n",
    "    print(f\"key:{x}\\n\")"
   ]
  },
  {
   "cell_type": "code",
   "execution_count": 8,
   "metadata": {},
   "outputs": [
    {
     "name": "stdout",
     "output_type": "stream",
     "text": [
      "values:codetraining\n",
      "\n",
      "values:code\n",
      "\n",
      "values:training\n",
      "\n",
      "values:1234\n",
      "\n"
     ]
    }
   ],
   "source": [
    "# Code to see only the values:\n",
    "\n",
    "for y in user_account.values():\n",
    "    print(f\"values:{y}\\n\")"
   ]
  },
  {
   "cell_type": "code",
   "execution_count": 10,
   "metadata": {},
   "outputs": [
    {
     "name": "stdout",
     "output_type": "stream",
     "text": [
      "values:codetraining\n",
      "\n",
      "values:code\n",
      "\n",
      "values:training\n",
      "\n",
      "values:1234\n",
      "\n"
     ]
    }
   ],
   "source": [
    "for y in user_account.values():\n",
    "    print(f\"values:{y}\\n\")"
   ]
  },
  {
   "cell_type": "code",
   "execution_count": null,
   "metadata": {},
   "outputs": [],
   "source": []
  }
 ],
 "metadata": {
  "kernelspec": {
   "display_name": "Python 3",
   "language": "python",
   "name": "python3"
  },
  "language_info": {
   "codemirror_mode": {
    "name": "ipython",
    "version": 3
   },
   "file_extension": ".py",
   "mimetype": "text/x-python",
   "name": "python",
   "nbconvert_exporter": "python",
   "pygments_lexer": "ipython3",
   "version": "3.7.6"
  }
 },
 "nbformat": 4,
 "nbformat_minor": 4
}
