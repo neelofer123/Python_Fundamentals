{
 "cells": [
  {
   "cell_type": "code",
   "execution_count": 1,
   "metadata": {},
   "outputs": [],
   "source": [
    "# PYTHON FUNCTIONS (\"def\"):\n",
    "\n",
    "def greet_user():\n",
    "    \"\"\"Display a simple greeting\"\"\"\n",
    "    print('Hello!')"
   ]
  },
  {
   "cell_type": "code",
   "execution_count": 6,
   "metadata": {},
   "outputs": [
    {
     "name": "stdout",
     "output_type": "stream",
     "text": [
      "Hello!\n"
     ]
    }
   ],
   "source": [
    "greet_user()"
   ]
  },
  {
   "cell_type": "code",
   "execution_count": 7,
   "metadata": {},
   "outputs": [],
   "source": [
    "def greet_user(name):\n",
    "    \"\"\"Display simple greetings with name\"\"\"\n",
    "    print(f\"Hello! {name.title()}\")"
   ]
  },
  {
   "cell_type": "code",
   "execution_count": 8,
   "metadata": {},
   "outputs": [
    {
     "name": "stdout",
     "output_type": "stream",
     "text": [
      "Hello! Neelofer\n"
     ]
    }
   ],
   "source": [
    "greet_user('neelofer')"
   ]
  },
  {
   "cell_type": "code",
   "execution_count": 21,
   "metadata": {},
   "outputs": [],
   "source": [
    "# Passing parameters and arguments:\n",
    "\n",
    "def describe_pet(pet_type , pet_name):\n",
    "    \"\"\"Display pet information\"\"\"\n",
    "    print(f\"\\nI have a {pet_type.title()}\")\n",
    "    print(f\"My {pet_type}'s name is {pet_name.title()}\")"
   ]
  },
  {
   "cell_type": "code",
   "execution_count": 19,
   "metadata": {},
   "outputs": [
    {
     "name": "stdout",
     "output_type": "stream",
     "text": [
      "\n",
      "I have a Dog\n",
      "\n",
      "My dog's name is Bruno\n"
     ]
    }
   ],
   "source": [
    "describe_pet('dog','bruno')"
   ]
  },
  {
   "cell_type": "code",
   "execution_count": 22,
   "metadata": {},
   "outputs": [
    {
     "name": "stdout",
     "output_type": "stream",
     "text": [
      "\n",
      "I have a Dog\n",
      "My dog's name is Bruno\n",
      "\n",
      "I have a Cat\n",
      "My cat's name is Snowbell\n"
     ]
    }
   ],
   "source": [
    "#Multiple function call:\n",
    "\n",
    "describe_pet('dog','bruno')\n",
    "describe_pet('cat','snowbell')"
   ]
  },
  {
   "cell_type": "code",
   "execution_count": 23,
   "metadata": {},
   "outputs": [
    {
     "name": "stdout",
     "output_type": "stream",
     "text": [
      "\n",
      "I have a Bruno\n",
      "My bruno's name is Dog\n"
     ]
    }
   ],
   "source": [
    "# Positional Argument:\n",
    "\n",
    "describe_pet('bruno','dog')\n"
   ]
  },
  {
   "cell_type": "code",
   "execution_count": 24,
   "metadata": {},
   "outputs": [
    {
     "name": "stdout",
     "output_type": "stream",
     "text": [
      "\n",
      "I have a Dog\n",
      "My dog's name is Bruno\n"
     ]
    }
   ],
   "source": [
    "describe_pet('dog','bruno')"
   ]
  },
  {
   "cell_type": "code",
   "execution_count": 25,
   "metadata": {},
   "outputs": [],
   "source": [
    "#Keyword Argument:\n",
    "\n",
    "def describe_pet(pet_type = 'dog' , pet_name = 'bruno'):\n",
    "    \"\"\"Display pet information\"\"\"\n",
    "    print(f\"\\nI have a {pet_type.title()}\")\n",
    "    print(f\"My {pet_type}'s name is {pet_name.title()}\")"
   ]
  },
  {
   "cell_type": "code",
   "execution_count": 26,
   "metadata": {},
   "outputs": [
    {
     "name": "stdout",
     "output_type": "stream",
     "text": [
      "\n",
      "I have a Dog\n",
      "My dog's name is Bruno\n"
     ]
    }
   ],
   "source": [
    "describe_pet()"
   ]
  },
  {
   "cell_type": "code",
   "execution_count": 28,
   "metadata": {},
   "outputs": [],
   "source": [
    "#Default Argument:\n",
    "\n",
    "def describe_pet(pet_name , pet_type = 'dog'):\n",
    "    \"\"\"Display pet information\"\"\"\n",
    "    print(f\"\\nI have a {pet_type.title()}\")\n",
    "    print(f\"My {pet_type}'s name is {pet_name.title()}\")"
   ]
  },
  {
   "cell_type": "code",
   "execution_count": 29,
   "metadata": {},
   "outputs": [
    {
     "name": "stdout",
     "output_type": "stream",
     "text": [
      "\n",
      "I have a Dog\n",
      "My dog's name is Krish\n"
     ]
    }
   ],
   "source": [
    "describe_pet('krish')"
   ]
  },
  {
   "cell_type": "code",
   "execution_count": 30,
   "metadata": {},
   "outputs": [
    {
     "name": "stdout",
     "output_type": "stream",
     "text": [
      "\n",
      "I have a Cat\n",
      "My cat's name is Rex\n"
     ]
    }
   ],
   "source": [
    "describe_pet('rex' , 'cat')"
   ]
  },
  {
   "cell_type": "code",
   "execution_count": 33,
   "metadata": {},
   "outputs": [],
   "source": [
    "# Returning a Value:\n",
    "\n",
    "def get_formated_name(f_name , l_name):\n",
    "    \"\"\"Returning a neatly formated full name\"\"\"\n",
    "    full_name = f\"{f_name} {l_name}\"\n",
    "    return full_name.title()\n"
   ]
  },
  {
   "cell_type": "code",
   "execution_count": 34,
   "metadata": {},
   "outputs": [
    {
     "data": {
      "text/plain": [
       "'Neelofer Hussain'"
      ]
     },
     "execution_count": 34,
     "metadata": {},
     "output_type": "execute_result"
    }
   ],
   "source": [
    "get_formated_name('neelofer' , 'hussain')"
   ]
  },
  {
   "cell_type": "code",
   "execution_count": 38,
   "metadata": {},
   "outputs": [],
   "source": [
    "#Arbitary number of arguments:\n",
    "\n",
    "def make_pizza(*toppings):\n",
    "    \"\"\"Print the list of pizza toppings requested\"\"\"\n",
    "    print(toppings)"
   ]
  },
  {
   "cell_type": "code",
   "execution_count": 36,
   "metadata": {},
   "outputs": [
    {
     "name": "stdout",
     "output_type": "stream",
     "text": [
      "corn\n"
     ]
    }
   ],
   "source": [
    "make_pizza('corn')"
   ]
  },
  {
   "cell_type": "code",
   "execution_count": 39,
   "metadata": {},
   "outputs": [
    {
     "name": "stdout",
     "output_type": "stream",
     "text": [
      "('corn', 'olives', 'onions')\n"
     ]
    }
   ],
   "source": [
    "make_pizza('corn','olives','onions')"
   ]
  },
  {
   "cell_type": "code",
   "execution_count": 40,
   "metadata": {},
   "outputs": [],
   "source": [
    "def make_pizza(*toppings):\n",
    "    \"\"\"Print the list of pizza toppings requested\"\"\"\n",
    "    print(\"\\nMaking a pizza with the following topping:\")\n",
    "    for x in toppings:\n",
    "        print(f\"-{x}\")"
   ]
  },
  {
   "cell_type": "code",
   "execution_count": 41,
   "metadata": {},
   "outputs": [
    {
     "name": "stdout",
     "output_type": "stream",
     "text": [
      "\n",
      "Making a pizza with the following topping:\n",
      "-corn\n",
      "\n",
      "Making a pizza with the following topping:\n",
      "-corn\n",
      "-olives\n",
      "-onions\n",
      "\n",
      "Making a pizza with the following topping:\n",
      "-corn\n",
      "-olives\n",
      "-onions\n",
      "-chicken\n"
     ]
    }
   ],
   "source": [
    "make_pizza('corn')\n",
    "make_pizza('corn','olives','onions')\n",
    "make_pizza('corn','olives','onions','chicken')"
   ]
  },
  {
   "cell_type": "code",
   "execution_count": 43,
   "metadata": {},
   "outputs": [
    {
     "name": "stdout",
     "output_type": "stream",
     "text": [
      "1\n",
      "2\n",
      "3\n",
      "4\n",
      "5\n"
     ]
    }
   ],
   "source": [
    "# While loop:\n",
    "\n",
    "num = 1\n",
    "while num<=5:\n",
    "    print(num)\n",
    "    num+=1"
   ]
  },
  {
   "cell_type": "code",
   "execution_count": 44,
   "metadata": {},
   "outputs": [
    {
     "name": "stdout",
     "output_type": "stream",
     "text": [
      "\n",
      "Tell me something and I will repeat it for you!\n",
      "Enter'Quit' to end the programHello Neelofer\n",
      "Hello Neelofer\n",
      "\n",
      "Tell me something and I will repeat it for you!\n",
      "Enter'Quit' to end the programhow are you doing\n",
      "how are you doing\n",
      "\n",
      "Tell me something and I will repeat it for you!\n",
      "Enter'Quit' to end the programquit\n",
      "quit\n",
      "\n",
      "Tell me something and I will repeat it for you!\n",
      "Enter'Quit' to end the programQuit\n",
      "Quit\n"
     ]
    }
   ],
   "source": [
    "# Letting user when to quit:\n",
    "\n",
    "prompt = \"\\nTell me something and I will repeat it for you!\"\n",
    "prompt += \"\\nEnter'Quit' to end the program\"\n",
    "message = \"\"\n",
    "while message != 'Quit':\n",
    "    message = input(prompt)\n",
    "    print(message)"
   ]
  },
  {
   "cell_type": "code",
   "execution_count": null,
   "metadata": {},
   "outputs": [],
   "source": [
    "#Using break to exit the loop:\n",
    "\n",
    "prompt = \"\\nEnter the city you have visited!\"\n",
    "prompt += \"\\nEnter'Quit' to end the program\"\n",
    "while True:\n",
    "    city = input(prompt)\n",
    "    if city == 'Quit':\n",
    "        break\n",
    "    else:\n",
    "        print(f\"I would love to visit{city.title()} again!\")"
   ]
  },
  {
   "cell_type": "code",
   "execution_count": null,
   "metadata": {},
   "outputs": [],
   "source": []
  }
 ],
 "metadata": {
  "kernelspec": {
   "display_name": "Python 3",
   "language": "python",
   "name": "python3"
  },
  "language_info": {
   "codemirror_mode": {
    "name": "ipython",
    "version": 3
   },
   "file_extension": ".py",
   "mimetype": "text/x-python",
   "name": "python",
   "nbconvert_exporter": "python",
   "pygments_lexer": "ipython3",
   "version": "3.7.6"
  }
 },
 "nbformat": 4,
 "nbformat_minor": 4
}
