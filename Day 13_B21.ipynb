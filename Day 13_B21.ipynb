{
 "cells": [
  {
   "cell_type": "code",
   "execution_count": 1,
   "metadata": {},
   "outputs": [
    {
     "name": "stdout",
     "output_type": "stream",
     "text": [
      "Tell me somthing and I will repeat it:Hello all\n",
      "Hello all\n"
     ]
    }
   ],
   "source": [
    "# User accepted input:\n",
    "\n",
    "message = input (\"Tell me somthing and I will repeat it:\")\n",
    "print (message)"
   ]
  },
  {
   "cell_type": "code",
   "execution_count": 3,
   "metadata": {},
   "outputs": [
    {
     "name": "stdout",
     "output_type": "stream",
     "text": [
      "Please enter your name:Neelofer\n",
      "\n",
      "Neelofer\n"
     ]
    }
   ],
   "source": [
    "name = input(\"Please enter your name:\")\n",
    "print (f\"\\n{name}\")"
   ]
  },
  {
   "cell_type": "code",
   "execution_count": 5,
   "metadata": {},
   "outputs": [
    {
     "name": "stdout",
     "output_type": "stream",
     "text": [
      "Please enter your name:Neelofer\n",
      "\n",
      "Hello Neelofer\n",
      "\n",
      "Welcome to python session\n"
     ]
    }
   ],
   "source": [
    "name = input(\"Please enter your name:\")\n",
    "print (f\"\\nHello {name}\")\n",
    "print(f\"\\nWelcome to python session\")"
   ]
  },
  {
   "cell_type": "code",
   "execution_count": 9,
   "metadata": {},
   "outputs": [
    {
     "name": "stdout",
     "output_type": "stream",
     "text": [
      "Please enter your age!25\n",
      "My age is 25\n"
     ]
    }
   ],
   "source": [
    "# Numerical Inputs:\n",
    "\n",
    "age = input(\"Please enter your age!\")\n",
    "print(f\"My age is {age}\")"
   ]
  },
  {
   "cell_type": "code",
   "execution_count": 10,
   "metadata": {},
   "outputs": [
    {
     "name": "stdout",
     "output_type": "stream",
     "text": [
      "Please enter your age!25\n"
     ]
    }
   ],
   "source": [
    "age = input(\"Please enter your age!\")\n",
    "age = int(age)"
   ]
  },
  {
   "cell_type": "code",
   "execution_count": 11,
   "metadata": {},
   "outputs": [
    {
     "data": {
      "text/plain": [
       "True"
      ]
     },
     "execution_count": 11,
     "metadata": {},
     "output_type": "execute_result"
    }
   ],
   "source": [
    "age>=20"
   ]
  },
  {
   "cell_type": "code",
   "execution_count": 13,
   "metadata": {},
   "outputs": [
    {
     "name": "stdout",
     "output_type": "stream",
     "text": [
      "Please enter your age!25\n",
      "You are eligible to vote!\n"
     ]
    }
   ],
   "source": [
    "age = input(\"Please enter your age!\")\n",
    "age = int(age)\n",
    "\n",
    "if age>=18:\n",
    "    print('You are eligible to vote!')\n",
    "else:\n",
    "    print('You are not eligible to vote!')\n"
   ]
  },
  {
   "cell_type": "code",
   "execution_count": 14,
   "metadata": {},
   "outputs": [
    {
     "name": "stdout",
     "output_type": "stream",
     "text": [
      "Please enter your age!17\n",
      "You are not eligible to vote!\n"
     ]
    }
   ],
   "source": [
    "age = input(\"Please enter your age!\")\n",
    "age = int(age)\n",
    "\n",
    "if age>=18:\n",
    "    print('You are eligible to vote!')\n",
    "else:\n",
    "    print('You are not eligible to vote!')"
   ]
  },
  {
   "cell_type": "code",
   "execution_count": null,
   "metadata": {},
   "outputs": [],
   "source": []
  }
 ],
 "metadata": {
  "kernelspec": {
   "display_name": "Python 3",
   "language": "python",
   "name": "python3"
  },
  "language_info": {
   "codemirror_mode": {
    "name": "ipython",
    "version": 3
   },
   "file_extension": ".py",
   "mimetype": "text/x-python",
   "name": "python",
   "nbconvert_exporter": "python",
   "pygments_lexer": "ipython3",
   "version": "3.7.6"
  }
 },
 "nbformat": 4,
 "nbformat_minor": 4
}
