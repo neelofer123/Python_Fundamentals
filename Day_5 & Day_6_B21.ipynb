{
 "cells": [
  {
   "cell_type": "code",
   "execution_count": 2,
   "metadata": {},
   "outputs": [
    {
     "name": "stdout",
     "output_type": "stream",
     "text": [
      "['maruti', 'honda', 'bmw', 'benz', 'kia', 'audi']\n"
     ]
    }
   ],
   "source": [
    "cars = ['maruti','honda','bmw','benz','kia','audi']\n",
    "print(cars)"
   ]
  },
  {
   "cell_type": "code",
   "execution_count": 3,
   "metadata": {},
   "outputs": [
    {
     "name": "stdout",
     "output_type": "stream",
     "text": [
      "['audi', 'benz', 'bmw', 'honda', 'kia', 'maruti']\n"
     ]
    }
   ],
   "source": [
    "print(sorted(cars))"
   ]
  },
  {
   "cell_type": "code",
   "execution_count": 4,
   "metadata": {},
   "outputs": [
    {
     "name": "stdout",
     "output_type": "stream",
     "text": [
      "['maruti', 'honda', 'bmw', 'benz', 'kia', 'audi']\n"
     ]
    }
   ],
   "source": [
    "print(cars)"
   ]
  },
  {
   "cell_type": "code",
   "execution_count": 5,
   "metadata": {},
   "outputs": [
    {
     "name": "stdout",
     "output_type": "stream",
     "text": [
      "['audi', 'benz', 'bmw', 'honda', 'kia', 'maruti']\n"
     ]
    }
   ],
   "source": [
    "cars.sort()\n",
    "print(cars)"
   ]
  },
  {
   "cell_type": "code",
   "execution_count": 6,
   "metadata": {},
   "outputs": [
    {
     "name": "stdout",
     "output_type": "stream",
     "text": [
      "['audi', 'benz', 'bmw', 'honda', 'kia', 'maruti']\n"
     ]
    }
   ],
   "source": [
    "print(cars)"
   ]
  },
  {
   "cell_type": "code",
   "execution_count": 7,
   "metadata": {},
   "outputs": [
    {
     "name": "stdout",
     "output_type": "stream",
     "text": [
      "['maruti', 'kia', 'honda', 'bmw', 'benz', 'audi']\n"
     ]
    }
   ],
   "source": [
    "cars.reverse()\n",
    "print(cars)"
   ]
  },
  {
   "cell_type": "code",
   "execution_count": 8,
   "metadata": {},
   "outputs": [
    {
     "data": {
      "text/plain": [
       "6"
      ]
     },
     "execution_count": 8,
     "metadata": {},
     "output_type": "execute_result"
    }
   ],
   "source": [
    "len(cars)"
   ]
  },
  {
   "cell_type": "code",
   "execution_count": 10,
   "metadata": {},
   "outputs": [
    {
     "name": "stdout",
     "output_type": "stream",
     "text": [
      "['sheetal', 'swetha', 'prashanth', 'rizwan', 'siri', 'janaki', 'siva']\n"
     ]
    }
   ],
   "source": [
    "# for loop:\n",
    "\n",
    "my_students = ['sheetal','swetha','prashanth','rizwan','siri','janaki','siva']\n",
    "print(my_students)"
   ]
  },
  {
   "cell_type": "code",
   "execution_count": 12,
   "metadata": {},
   "outputs": [
    {
     "name": "stdout",
     "output_type": "stream",
     "text": [
      "Keep up the good work,Sheetal\n"
     ]
    }
   ],
   "source": [
    "print(f\"Keep up the good work,{my_students[0].title()}\")"
   ]
  },
  {
   "cell_type": "code",
   "execution_count": 13,
   "metadata": {},
   "outputs": [
    {
     "name": "stdout",
     "output_type": "stream",
     "text": [
      "Keep up the good work, Sheetal\n",
      "Keep up the good work, Swetha\n",
      "Keep up the good work, Prashanth\n",
      "Keep up the good work, Rizwan\n",
      "Keep up the good work, Siri\n",
      "Keep up the good work, Janaki\n",
      "Keep up the good work, Siva\n"
     ]
    }
   ],
   "source": [
    "for students in my_students:\n",
    "    print(f\"Keep up the good work, {students.title()}\")"
   ]
  },
  {
   "cell_type": "code",
   "execution_count": 14,
   "metadata": {},
   "outputs": [
    {
     "name": "stdout",
     "output_type": "stream",
     "text": [
      "Keep up the good work, Sheetal\n",
      "looking forward for practice files, Sheetal\n",
      "Keep up the good work, Swetha\n",
      "looking forward for practice files, Swetha\n",
      "Keep up the good work, Prashanth\n",
      "looking forward for practice files, Prashanth\n",
      "Keep up the good work, Rizwan\n",
      "looking forward for practice files, Rizwan\n",
      "Keep up the good work, Siri\n",
      "looking forward for practice files, Siri\n",
      "Keep up the good work, Janaki\n",
      "looking forward for practice files, Janaki\n",
      "Keep up the good work, Siva\n",
      "looking forward for practice files, Siva\n"
     ]
    }
   ],
   "source": [
    "for students in my_students:\n",
    "    print(f\"Keep up the good work, {students.title()}\")\n",
    "    print(f\"looking forward for practice files, {students.title()}\")"
   ]
  },
  {
   "cell_type": "code",
   "execution_count": 15,
   "metadata": {},
   "outputs": [
    {
     "name": "stdout",
     "output_type": "stream",
     "text": [
      "Keep up the good work, Sheetal\n",
      "looking forward for practice files, Sheetal\n",
      "\n",
      "Keep up the good work, Swetha\n",
      "looking forward for practice files, Swetha\n",
      "\n",
      "Keep up the good work, Prashanth\n",
      "looking forward for practice files, Prashanth\n",
      "\n",
      "Keep up the good work, Rizwan\n",
      "looking forward for practice files, Rizwan\n",
      "\n",
      "Keep up the good work, Siri\n",
      "looking forward for practice files, Siri\n",
      "\n",
      "Keep up the good work, Janaki\n",
      "looking forward for practice files, Janaki\n",
      "\n",
      "Keep up the good work, Siva\n",
      "looking forward for practice files, Siva\n",
      "\n"
     ]
    }
   ],
   "source": [
    "for students in my_students:\n",
    "    print(f\"Keep up the good work, {students.title()}\")\n",
    "    print(f\"looking forward for practice files, {students.title()}\\n\")"
   ]
  },
  {
   "cell_type": "code",
   "execution_count": 19,
   "metadata": {},
   "outputs": [
    {
     "name": "stdout",
     "output_type": "stream",
     "text": [
      "Sheetal\n",
      "Swetha\n",
      "Prashanth\n",
      "RIZWAN\n",
      "Siri\n",
      "Janaki\n",
      "Siva\n"
     ]
    }
   ],
   "source": [
    "# if Else condition:-\n",
    "\n",
    "for students in my_students:\n",
    "    if students=='rizwan':\n",
    "        print(students.upper())\n",
    "    else:\n",
    "        print(students.title())"
   ]
  },
  {
   "cell_type": "code",
   "execution_count": 26,
   "metadata": {},
   "outputs": [
    {
     "name": "stdout",
     "output_type": "stream",
     "text": [
      "['swetha', 'prashanth']\n"
     ]
    }
   ],
   "source": [
    "print(my_students [1:3])"
   ]
  },
  {
   "cell_type": "code",
   "execution_count": 27,
   "metadata": {},
   "outputs": [
    {
     "name": "stdout",
     "output_type": "stream",
     "text": [
      "['prashanth', 'rizwan']\n"
     ]
    }
   ],
   "source": [
    "print(my_students [2:4])"
   ]
  },
  {
   "cell_type": "code",
   "execution_count": null,
   "metadata": {},
   "outputs": [],
   "source": []
  }
 ],
 "metadata": {
  "kernelspec": {
   "display_name": "Python 3",
   "language": "python",
   "name": "python3"
  },
  "language_info": {
   "codemirror_mode": {
    "name": "ipython",
    "version": 3
   },
   "file_extension": ".py",
   "mimetype": "text/x-python",
   "name": "python",
   "nbconvert_exporter": "python",
   "pygments_lexer": "ipython3",
   "version": "3.7.6"
  }
 },
 "nbformat": 4,
 "nbformat_minor": 4
}
